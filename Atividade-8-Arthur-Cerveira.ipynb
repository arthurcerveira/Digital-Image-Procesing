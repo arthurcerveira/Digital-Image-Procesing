{
 "cells": [
  {
   "cell_type": "markdown",
   "id": "71fb430a",
   "metadata": {},
   "source": [
    "# Atividade 8 - Arthur Cerveira\n",
    "## Exercício 1: Compactação sem perdas\n",
    "\n",
    "O exercício 1 consiste em compactar uma imagem no formato PNG e avaliar sua taxa de compressão. Como PNG é um formato que não apresenta perda de qualidade, a imagem resultante é igual a original, apesar de apresentar uma taxa de compressão menor do que uma compressão com perdas."
   ]
  },
  {
   "cell_type": "code",
   "execution_count": 1,
   "id": "ae778cbc",
   "metadata": {},
   "outputs": [],
   "source": [
    "function taxa_comp = compc_sp(imagem, formato='.png')\n",
    "    img = imread(imagem);\n",
    "    \n",
    "    split = strsplit (imagem, \".\");\n",
    "    name = split(length(split) - 1);\n",
    "    \n",
    "    file = strcat('.', name, formato){1};\n",
    "    \n",
    "    imwrite(img, file);\n",
    "    \n",
    "    img_png = imread(file);\n",
    "    \n",
    "    espaco_memoria = numel(img_png);\n",
    "    info = imfinfo (file);\n",
    "    espaco_disco = info.FileSize;\n",
    "    \n",
    "    taxa_comp = espaco_memoria / espaco_disco\n",
    "    \n",
    "    if (isequal(img, img_png))\n",
    "        \"Imagens são iguais\"\n",
    "    else\n",
    "        \"Imagens são diferentes\"\n",
    "    endif\n",
    "endfunction"
   ]
  },
  {
   "cell_type": "code",
   "execution_count": 2,
   "id": "00829eb2",
   "metadata": {},
   "outputs": [
    {
     "name": "stdout",
     "output_type": "stream",
     "text": [
      "taxa_comp =  1.7388\r\n",
      "ans = Imagens são iguais\r\n"
     ]
    }
   ],
   "source": [
    "imagem = './images/lena_cinza.bmp';\n",
    "compc_sp (imagem);"
   ]
  },
  {
   "cell_type": "code",
   "execution_count": 3,
   "id": "783a9b48",
   "metadata": {},
   "outputs": [
    {
     "name": "stdout",
     "output_type": "stream",
     "text": [
      "taxa_comp =  102.69\r\n",
      "ans = Imagens são iguais\r\n"
     ]
    }
   ],
   "source": [
    "imagem = './images/plot_screen_shot.png';\n",
    "compc_sp (imagem);"
   ]
  },
  {
   "cell_type": "markdown",
   "id": "ea10007d",
   "metadata": {},
   "source": [
    "## Exercício 2: Peak signal-to-noise ratio\n",
    "\n",
    "O exercício 2 consiste em calcular a métrica de qualidade PNSR entre duas imagens. "
   ]
  },
  {
   "cell_type": "code",
   "execution_count": 4,
   "id": "5cacc251",
   "metadata": {},
   "outputs": [],
   "source": [
    "pkg load image\n",
    "\n",
    "function PSNR= CPSNR(imagem1, imagem2, n=8)\n",
    "    img1 = imread(imagem1);\n",
    "    img2 = imread(imagem2);\n",
    "    \n",
    "    mse = immse(imagem1,imagem2);\n",
    "    \n",
    "    PSNR = 10 * log10((2^n - 1)^2/mse)\n",
    "    \n",
    "endfunction"
   ]
  },
  {
   "cell_type": "code",
   "execution_count": 5,
   "id": "5363ff43",
   "metadata": {},
   "outputs": [
    {
     "name": "stdout",
     "output_type": "stream",
     "text": [
      "PSNR =  37.308\r\n"
     ]
    }
   ],
   "source": [
    "CPSNR(\"./images/lena_cinza.bmp\", \"./images/lena_cinza.png\");"
   ]
  },
  {
   "cell_type": "markdown",
   "id": "91f29f47",
   "metadata": {},
   "source": [
    "## Exercício 3:  Compactação com perdas\n",
    "\n",
    "O exercício 3 consiste em compactar uma imagem no formato JPG, avaliar sua taxa de compressão, e seu valor de PSNR. Como JPG é um formato que não apresenta perda de qualidade, a imagem resultante é diferente a original, ainda que apresente uma taxa de compressão maior do que uma compressão sem perdas. Foi utilizada a mesma função do exercício 1."
   ]
  },
  {
   "cell_type": "code",
   "execution_count": 6,
   "id": "183937dc",
   "metadata": {},
   "outputs": [
    {
     "name": "stdout",
     "output_type": "stream",
     "text": [
      "taxa_comp =  8.1426\n",
      "ans = Imagens são diferentes\n",
      "PSNR =  39.873\n"
     ]
    }
   ],
   "source": [
    "imagem = './images/lena_cinza.bmp';\n",
    "compc_sp (imagem, '.jpg');\n",
    "\n",
    "comp = './images/lena_cinza.jpg';\n",
    "\n",
    "CPSNR(imagem, comp);"
   ]
  },
  {
   "cell_type": "markdown",
   "id": "1ce10044",
   "metadata": {},
   "source": [
    "## Exercício 4: Compactação com perdas controlada\n",
    "\n",
    "O exercício 4 consiste em compactar uma imagem no formato JPG2000, exibir a imagem compactada, e avaliar seu valor de PSNR. A função está implementada abaixo, porém não está funcionando corretamente, visto que o formato `.j2k` não é reconhecido pelo Octave e o parâmetro `CompressionRatio` também é inválido. Essa funcionalidades parecem estar apenas disponíveis no Matlab."
   ]
  },
  {
   "cell_type": "code",
   "execution_count": 7,
   "id": "b3ac0148",
   "metadata": {},
   "outputs": [],
   "source": [
    "function PSNR = compc_cpc(imagem, tx)\n",
    "    img = imread(imagem);\n",
    "    \n",
    "    split = strsplit (imagem, \".\");\n",
    "    name = split(length(split) - 1);\n",
    "    \n",
    "    file = strcat('.', name, '.j2k'){1};\n",
    "    \n",
    "    imwrite(img,file,\"CompressionRatio\",tx);\n",
    "    \n",
    "    img_comp = imread(file);\n",
    "    \n",
    "    imshow(img_comp);\n",
    "    \n",
    "    PSNR = CPSNR(imagem, file)\n",
    "endfunction"
   ]
  },
  {
   "cell_type": "code",
   "execution_count": 8,
   "id": "14b80e72",
   "metadata": {},
   "outputs": [
    {
     "name": "stdout",
     "output_type": "stream",
     "text": [
      "warning: imwrite: unlisted image format j2k (see imformats).  Trying to save anyway.\r\n",
      "warning: called from\r\n",
      "    imwrite at line 115 column 5\r\n",
      "    compc_cpc at line 9 column 5\r\n",
      "error: imwrite: invalid PARAMETER `CompressionRatio'\r\n",
      "error: called from\r\n",
      "    __imwrite__ at line 172 column 9\r\n",
      "    imwrite at line 117 column 5\r\n",
      "    compc_cpc at line 9 column 5\r\n"
     ]
    }
   ],
   "source": [
    "compc_cpc(imagem, 3);"
   ]
  }
 ],
 "metadata": {
  "kernelspec": {
   "display_name": "Octave",
   "language": "octave",
   "name": "octave"
  },
  "language_info": {
   "file_extension": ".m",
   "help_links": [
    {
     "text": "GNU Octave",
     "url": "https://www.gnu.org/software/octave/support.html"
    },
    {
     "text": "Octave Kernel",
     "url": "https://github.com/Calysto/octave_kernel"
    },
    {
     "text": "MetaKernel Magics",
     "url": "https://metakernel.readthedocs.io/en/latest/source/README.html"
    }
   ],
   "mimetype": "text/x-octave",
   "name": "octave",
   "version": "5.2.0"
  }
 },
 "nbformat": 4,
 "nbformat_minor": 5
}
